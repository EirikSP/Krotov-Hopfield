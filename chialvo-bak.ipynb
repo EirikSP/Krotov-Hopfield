{
 "cells": [
  {
   "cell_type": "code",
   "execution_count": 28,
   "metadata": {},
   "outputs": [],
   "source": [
    "import numpy as np\n",
    "from matplotlib import pyplot as plt"
   ]
  },
  {
   "cell_type": "code",
   "execution_count": 137,
   "metadata": {},
   "outputs": [],
   "source": [
    "class bak_model():\n",
    "\n",
    "    def __init__(self, layer_sizes: list) -> None:\n",
    "\n",
    "        '''\n",
    "        Layer_sizes is a list of how many neurons are in each layer, with the first being inputs and last being outputs.\n",
    "        \n",
    "        The model is initialized by creating random weight matrices for each layer.\n",
    "        \n",
    "        '''\n",
    "\n",
    "        self.layer_sizes = layer_sizes\n",
    "        self.layers = []\n",
    "        \n",
    "        \n",
    "        for i in range(len(layer_sizes) - 1):\n",
    "            self.layers.append(np.random.random((layer_sizes[i], layer_sizes[i+1])))\n",
    "\n",
    "\n",
    "\n",
    "\n",
    "    def learn_configuration(self, configuration: list, depressions: int, max_delta: float):\n",
    "\n",
    "        '''\n",
    "        Depressions is the number of training steps the model takes(either successful(no update) or not)\n",
    "\n",
    "        The model takes a random input node activates the network according to the Winner-Takes-All rule and records which synapses were used through this activation and then checks if the correct output node was reached. If the wrong node was reached it reduces the activated synapses and distributes the reduced magnitude to the rest of the weights for that layer.\n",
    "\n",
    "        '''\n",
    "\n",
    "        if(len(configuration) != self.layer_sizes[0]):\n",
    "            raise Exception('Different number of inputs in model and in configuration')\n",
    "        \n",
    "        i = 0\n",
    "        while i<depressions:\n",
    "            active_weights = []\n",
    "            input_node = np.random.randint(0,self.layer_sizes[0])\n",
    "            layer = 0\n",
    "            current_node = input_node\n",
    "            \n",
    "            while layer<len(self.layers):\n",
    "                new_node = np.argmax(self.layers[layer][current_node,:])\n",
    "                active_weights.append((current_node, new_node))\n",
    "                current_node = new_node\n",
    "                \n",
    "                layer += 1\n",
    "            \n",
    "            if(current_node != configuration[input_node]):\n",
    "                delta = np.random.random()*max_delta\n",
    "                for k in range(len(self.layers)):\n",
    "                    temp_delta = np.max([delta, self.layers[k][active_weights[k]]])\n",
    "                    self.layers[k] += temp_delta/(self.layers[k].shape[0]*self.layers[k].shape[1])\n",
    "                    self.layers[k][active_weights[k]] -= temp_delta\n",
    "\n",
    "            i += 1\n",
    "        \n",
    "\n",
    "    def test_configuration(self, configuration: list):\n",
    "        '''\n",
    "        Given a configuration the test runs through all of the input neurons and counts how many of the neurons are sent to the wrong one.\n",
    "        '''\n",
    "\n",
    "        if(len(configuration) != self.layer_sizes[0]):\n",
    "            raise Exception('Different number of inputs in model and in configuration')\n",
    "        error = 0\n",
    "\n",
    "        for i in range(self.layer_sizes[0]):\n",
    "            layer = 0\n",
    "            current_node = i\n",
    "            \n",
    "            while layer<len(self.layers):\n",
    "                new_node = np.argmax(self.layers[layer][current_node,:])\n",
    "                current_node = new_node\n",
    "                \n",
    "                layer += 1\n",
    "\n",
    "            if(current_node != configuration[i]):\n",
    "                error += 1\n",
    "\n",
    "        return error\n",
    "            \n",
    "\n",
    "        \n"
   ]
  },
  {
   "cell_type": "code",
   "execution_count": 140,
   "metadata": {},
   "outputs": [
    {
     "name": "stdout",
     "output_type": "stream",
     "text": [
      "11\n",
      "[1, 1, 1, 1, 1, 1, 1, 1, 1, 1, 1, 1]\n",
      "[2, 3, 2, 3, 4, 5, 4, 5, 6, 7, 6, 7]\n",
      "[0, 1, 2, 3, 4, 5, 6, 7, 8, 9, 10, 11]\n",
      "[1, 1, 1, 1, 1, 1, 1, 1, 1, 1, 1, 1]\n"
     ]
    },
    {
     "data": {
      "text/plain": [
       "[<matplotlib.lines.Line2D at 0x21a50e79c08>]"
      ]
     },
     "execution_count": 140,
     "metadata": {},
     "output_type": "execute_result"
    },
    {
     "data": {
      "image/png": "[encoded data removed]",
      "text/plain": [
       "<Figure size 640x480 with 1 Axes>"
      ]
     },
     "metadata": {},
     "output_type": "display_data"
    }
   ],
   "source": [
    "model = bak_model([12, 10000, 10, 10, 10,  12])\n",
    "\n",
    "configs = [[0, 1, 2, 3, 4, 5, 6, 7, 8, 9, 10, 11], [1, 1, 1, 1, 1, 1, 1, 1, 1, 1, 1, 1], [2, 3, 2, 3, 4, 5, 4, 5, 6, 7, 6, 7]]\n",
    "config = [0, 1, 2, 3, 4, 5, 6, 7, 8, 9, 10, 11]\n",
    "\n",
    "error_progress = [model.test_configuration(config)]\n",
    "\n",
    "print(model.test_configuration(config))\n",
    "\n",
    "\n",
    "config_index = 0\n",
    "config = configs[config_index]\n",
    "\n",
    "i=0\n",
    "\n",
    "while i<4000:\n",
    "    model.learn_configuration(config, 50, 1.0)\n",
    "    error_progress.append(model.test_configuration(config))\n",
    "    #print(model.test_configuration(config))\n",
    "    i+=1\n",
    "    if i%1000 == 0:\n",
    "        config_index = (config_index + 1)%3\n",
    "\n",
    "        config = configs[config_index]\n",
    "        print(config)\n",
    "\n",
    "\n",
    "\n",
    "\n",
    "plt.plot(error_progress)\n"
   ]
  },
  {
   "cell_type": "code",
   "execution_count": null,
   "metadata": {},
   "outputs": [],
   "source": []
  }
 ],
 "metadata": {
  "kernelspec": {
   "display_name": "Python 3",
   "language": "python",
   "name": "python3"
  },
  "language_info": {
   "codemirror_mode": {
    "name": "ipython",
    "version": 3
   },
   "file_extension": ".py",
   "mimetype": "text/x-python",
   "name": "python",
   "nbconvert_exporter": "python",
   "pygments_lexer": "ipython3",
   "version": "3.7.6"
  },
  "orig_nbformat": 4
 },
 "nbformat": 4,
 "nbformat_minor": 2
}
