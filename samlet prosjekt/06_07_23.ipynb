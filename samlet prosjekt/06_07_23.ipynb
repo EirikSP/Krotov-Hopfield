{
 "cells": [
  {
   "attachments": {},
   "cell_type": "markdown",
   "metadata": {},
   "source": [
    "### 6. juli\n",
    "\n",
    "Starten av dagen gikk til å koble seg til tungregningsmaskinene og få lastet opp filene mine på Jupyter. Fikk hjelp av noen på seksjonen slik at dette ble fikset. Hjalp deretter en annen med å koble seg på.\n",
    "\n",
    "Kjørte så double descent scriptet fra 29_06_23.ipynb noe som fremdeles tok lang tid. Halvveis inn ble kjøringen stoppet så måtte starte på nytt. Tok derfor ekstra lang tid. Da koden endelig var ferdig med å kjøre før jeg gikk hjem, fikk jeg dessverre ikke noe double descent kurve :( Det kan være siden nettverket jeg brukte i koden var et vanlig MLP-nettverk og ikke CNN.\n",
    "\n",
    "Siden jeg fikk vite at hovedmålet med prosjektet er å se på vektendringen, slik at double descent kurvene ikke er like relevante gikk jeg over koden jeg har til nå og skrev mer utfyllende om de ulike vektendringene jeg har studert. \n",
    "\n",
    "Så på det jeg gjorde sist i 01-04_07_23.ipynb og prøver nå å plotte alle vektendringene, også de negative. Fant ut av hvorfor sannsynlighetstettheten min ble rar. Viste seg at jeg ikke hadde forstått ordentlig hva density=True i plt.hist gjør. For å finne sannsynlighetstettheten i hvert punkt kan jeg bare hente ut denne fra plt.hist. Får samme resultat om jeg bruker koden jeg har men endrer til density=False i np.histogram for da blir sannsynlighetstettheten regnet ut riktig."
   ]
  },
  {
   "cell_type": "code",
   "execution_count": 2,
   "metadata": {},
   "outputs": [],
   "source": [
    "import torch\n",
    "import torch.nn as nn\n",
    "import torch.optim as optim\n",
    "from torchvision import datasets, transforms\n",
    "from torch.utils.data import DataLoader, Dataset\n",
    "import numpy as np\n",
    "import matplotlib.pyplot as plt\n",
    "from tqdm import trange"
   ]
  },
  {
   "cell_type": "code",
   "execution_count": 3,
   "metadata": {},
   "outputs": [],
   "source": [
    "# Hyperparameters\n",
    "input_dim = 28**2  # MNIST images are 28x28 pixels\n",
    "hidden_dim1 = 128  # Number of units in the first hidden layer\n",
    "hidden_dim2 = 100  # Number of units in the second hidden layer\n",
    "learning_rate = 0.01\n",
    "output_dim = 10  # Initial output classes \n",
    "batch_size = 64\n"
   ]
  },
  {
   "cell_type": "code",
   "execution_count": 4,
   "metadata": {},
   "outputs": [],
   "source": [
    "class Net(nn.Module):\n",
    "    def __init__(self):\n",
    "        super().__init__()\n",
    "        self.layer1 = nn.Linear(input_dim, hidden_dim1)\n",
    "        self.layer2 = nn.Linear(hidden_dim1, hidden_dim2)\n",
    "        self.layer3 = nn.Linear(hidden_dim2, output_dim)\n",
    "        self.R = nn.ReLU()\n",
    "\n",
    "    def forward(self, x):\n",
    "        x = x.view(x.size(0), -1)\n",
    "        x = self.R(self.layer1(x))\n",
    "        x = self.R(self.layer2(x))\n",
    "        x = self.layer3(x)\n",
    "        return x"
   ]
  },
  {
   "cell_type": "code",
   "execution_count": 5,
   "metadata": {},
   "outputs": [],
   "source": [
    "# Normalizes the data like I did earlier by dividing by 255.0\n",
    "transform = transforms.Compose([transforms.ToTensor(), transforms.Normalize((0.5,), (0.5,))])\n",
    "\n",
    "train_dataset = datasets.MNIST(root='./data', train=True, download=True, transform=transform)\n",
    "train_loader = torch.utils.data.DataLoader(train_dataset, batch_size=batch_size, shuffle=True)\n",
    "\n",
    "test_dataset = datasets.MNIST(root='./data', train=False, download=True, transform=transform)\n",
    "test_loader = torch.utils.data.DataLoader(test_dataset, batch_size=batch_size, shuffle=False)"
   ]
  },
  {
   "cell_type": "code",
   "execution_count": 6,
   "metadata": {},
   "outputs": [],
   "source": [
    "# Create an instance of the network\n",
    "model = Net()\n",
    "\n",
    "# Define the loss function and optimizer\n",
    "criterion = nn.CrossEntropyLoss()\n",
    "optimizer = optim.SGD(model.parameters(), lr=learning_rate)"
   ]
  },
  {
   "cell_type": "code",
   "execution_count": 7,
   "metadata": {},
   "outputs": [
    {
     "name": "stderr",
     "output_type": "stream",
     "text": [
      "  0%|          | 0/2 [00:00<?, ?it/s]"
     ]
    },
    {
     "name": "stderr",
     "output_type": "stream",
     "text": [
      " 50%|█████     | 1/2 [00:30<00:30, 30.05s/it]"
     ]
    },
    {
     "name": "stdout",
     "output_type": "stream",
     "text": [
      "Epoch [0/2]\n"
     ]
    },
    {
     "name": "stderr",
     "output_type": "stream",
     "text": [
      "100%|██████████| 2/2 [00:56<00:00, 28.41s/it]"
     ]
    },
    {
     "name": "stdout",
     "output_type": "stream",
     "text": [
      "Epoch [1/2]\n"
     ]
    },
    {
     "name": "stderr",
     "output_type": "stream",
     "text": [
      "\n"
     ]
    }
   ],
   "source": [
    "# Set random seed for reproducibility\n",
    "torch.manual_seed(43)\n",
    "\n",
    "num_epochs = 2\n",
    "# Track the weight differences\n",
    "weight_differences = []\n",
    "# Variables to store the initial and final weights\n",
    "initial_weights = []\n",
    "final_weights = []\n",
    "\n",
    "# Training loop\n",
    "for epoch in trange(num_epochs):\n",
    "    for i, (images, labels) in enumerate(train_loader):\n",
    "        # Forward pass\n",
    "        outputs = model(images)\n",
    "        loss = criterion(outputs, labels)\n",
    "\n",
    "        # Backward and optimize\n",
    "        optimizer.zero_grad()\n",
    "        loss.backward()\n",
    "        optimizer.step()\n",
    "\n",
    "    # Save the weights after the desired epochs\n",
    "    if epoch == 0:\n",
    "        initial_weights = model.layer1.weight.data.clone()\n",
    "    elif epoch == num_epochs - 1:\n",
    "        final_weights = model.layer1.weight.data.clone()\n",
    "        weight_diff = (final_weights - initial_weights)\n",
    "        weight_differences.extend(weight_diff.view(-1).detach().numpy())\n",
    "\n",
    "    print(f\"Epoch [{epoch}/{num_epochs}]\")\n"
   ]
  },
  {
   "cell_type": "code",
   "execution_count": 49,
   "metadata": {},
   "outputs": [
    {
     "data": {
      "image/png": "[encoded data removed]",
      "text/plain": [
       "<Figure size 432x288 with 1 Axes>"
      ]
     },
     "metadata": {
      "needs_background": "light"
     },
     "output_type": "display_data"
    }
   ],
   "source": [
    "# Define the number of bins and the scaling factor for increasing bin widths\n",
    "num_bins = 25\n",
    "bin_width_scale = 15\n",
    "\n",
    "# Calculate the scaling factor for each bin\n",
    "bin_scaling = np.exp(np.linspace(0, np.log(bin_width_scale), num_bins))\n",
    "\n",
    "# Insert 0 as the first element of bin_scaling so that the first edge starts at 0\n",
    "bin_scaling = np.insert(bin_scaling, 0, 0)\n",
    "\n",
    "# Calculate the bin edges\n",
    "bin_edges = np.cumsum(bin_scaling)\n",
    "bin_edges /= bin_edges[-1]\n",
    "bin_edges *= np.max(weight_differences)\n",
    "\n",
    "# Plot the histogram with custom bin widths\n",
    "plt.hist(weight_differences, bins=bin_edges, density=True, alpha=0.7, edgecolor=\"black\")\n",
    "plt.xlabel(\"Weight Difference\")\n",
    "plt.ylabel(\"Frequency\")\n",
    "plt.title(\"Weight Difference Histogram for 1st layer\")\n",
    "\n",
    "# Calculate probability density\n",
    "hist, _ = np.histogram(weight_differences, bins=bin_edges, density=False)\n",
    "bin_centers = (bin_edges[:-1] + bin_edges[1:]) / 2\n",
    "bin_widths = np.diff(bin_edges)\n",
    "prob_density = hist / (np.sum(hist) * bin_widths)\n",
    "\n",
    "# Plot probability density curve\n",
    "plt.plot(bin_centers, prob_density, \"o--\", label=\"Probability Density\")\n",
    "plt.legend()\n",
    "plt.xlim(0, 0.015)\n",
    "plt.show()"
   ]
  },
  {
   "attachments": {},
   "cell_type": "markdown",
   "metadata": {},
   "source": [
    "Slik blir den riktige sannsynlighetstettheten. Prøver nå å gjøre det samme for både de negative og positive vektendringene. Plotter først vektendringene med samme bin-bredde for å se omtrent hvordan fordelingen ser ut."
   ]
  },
  {
   "cell_type": "code",
   "execution_count": 105,
   "metadata": {},
   "outputs": [
    {
     "data": {
      "text/plain": [
       "Text(0.5, 1.0, 'Weight Difference Histogram for 1st layer')"
      ]
     },
     "execution_count": 105,
     "metadata": {},
     "output_type": "execute_result"
    },
    {
     "data": {
      "image/png": "[encoded data removed]",
      "text/plain": [
       "<Figure size 432x288 with 1 Axes>"
      ]
     },
     "metadata": {
      "needs_background": "light"
     },
     "output_type": "display_data"
    }
   ],
   "source": [
    "# Plot the histogram\n",
    "plt.hist(weight_differences, bins=56, density=True, alpha=0.7, edgecolor=\"black\")\n",
    "plt.xlabel(\"Weight Difference\")\n",
    "plt.ylabel(\"Frequency\")\n",
    "plt.title(\"Weight Difference Histogram for 1st layer\")"
   ]
  },
  {
   "cell_type": "code",
   "execution_count": 104,
   "metadata": {},
   "outputs": [
    {
     "name": "stdout",
     "output_type": "stream",
     "text": [
      "[-15.         -13.88317032 -12.84949454 -11.89278142 -11.00730067\n",
      " -10.18774866  -9.42921666  -8.72716139  -8.07737786  -7.47597417\n",
      "  -6.91934818  -6.40416596  -5.92734178  -5.4860197   -5.07755639\n",
      "  -4.69950535  -4.34960221  -4.02575122  -3.72601266  -3.44859122\n",
      "  -3.19182529  -2.95417694  -2.73422277  -2.53064536  -2.34222537\n",
      "  -2.16783425  -2.00642748  -1.85703829  -1.71877193  -1.59080023\n",
      "  -1.4723567   -1.36273192  -1.26126929  -1.16736109  -1.08044486\n",
      "  -1.           1.           1.08044486   1.16736109   1.26126929\n",
      "   1.36273192   1.4723567    1.59080023   1.71877193   1.85703829\n",
      "   2.00642748   2.16783425   2.34222537   2.53064536   2.73422277\n",
      "   2.95417694   3.19182529   3.44859122   3.72601266   4.02575122\n",
      "   4.34960221   4.69950535   5.07755639   5.4860197    5.92734178\n",
      "   6.40416596   6.91934818   7.47597417   8.07737786   8.72716139\n",
      "   9.42921666  10.18774866  11.00730067  11.89278142  12.84949454\n",
      "  13.88317032  15.        ]\n"
     ]
    },
    {
     "ename": "ValueError",
     "evalue": "`bins` must increase monotonically, when an array",
     "output_type": "error",
     "traceback": [
      "\u001b[1;31m---------------------------------------------------------------------------\u001b[0m",
      "\u001b[1;31mValueError\u001b[0m                                Traceback (most recent call last)",
      "\u001b[1;32mc:\\Users\\rache\\OneDrive - Universitetet i Oslo\\nevrale_nettverk\\nevrale_nettverk\\samlet prosjekt\\06_07_23.ipynb Cell 11\u001b[0m in \u001b[0;36m<cell line: 26>\u001b[1;34m()\u001b[0m\n\u001b[0;32m     <a href='vscode-notebook-cell:/c%3A/Users/rache/OneDrive%20-%20Universitetet%20i%20Oslo/nevrale_nettverk/nevrale_nettverk/samlet%20prosjekt/06_07_23.ipynb#X13sZmlsZQ%3D%3D?line=21'>22</a>\u001b[0m end \u001b[39m=\u001b[39m np\u001b[39m.\u001b[39mmax(weight_differences)\n\u001b[0;32m     <a href='vscode-notebook-cell:/c%3A/Users/rache/OneDrive%20-%20Universitetet%20i%20Oslo/nevrale_nettverk/nevrale_nettverk/samlet%20prosjekt/06_07_23.ipynb#X13sZmlsZQ%3D%3D?line=22'>23</a>\u001b[0m \u001b[39m#bin_edges = np.linspace(start, end, num_bins + 1)\u001b[39;00m\n\u001b[0;32m     <a href='vscode-notebook-cell:/c%3A/Users/rache/OneDrive%20-%20Universitetet%20i%20Oslo/nevrale_nettverk/nevrale_nettverk/samlet%20prosjekt/06_07_23.ipynb#X13sZmlsZQ%3D%3D?line=23'>24</a>\u001b[0m \n\u001b[0;32m     <a href='vscode-notebook-cell:/c%3A/Users/rache/OneDrive%20-%20Universitetet%20i%20Oslo/nevrale_nettverk/nevrale_nettverk/samlet%20prosjekt/06_07_23.ipynb#X13sZmlsZQ%3D%3D?line=24'>25</a>\u001b[0m \u001b[39m# Plot the histogram with custom bin widths\u001b[39;00m\n\u001b[1;32m---> <a href='vscode-notebook-cell:/c%3A/Users/rache/OneDrive%20-%20Universitetet%20i%20Oslo/nevrale_nettverk/nevrale_nettverk/samlet%20prosjekt/06_07_23.ipynb#X13sZmlsZQ%3D%3D?line=25'>26</a>\u001b[0m plt\u001b[39m.\u001b[39;49mhist(weight_differences, bins\u001b[39m=\u001b[39;49mbin_edges, density\u001b[39m=\u001b[39;49m\u001b[39mTrue\u001b[39;49;00m, alpha\u001b[39m=\u001b[39;49m\u001b[39m0.7\u001b[39;49m, edgecolor\u001b[39m=\u001b[39;49m\u001b[39m\"\u001b[39;49m\u001b[39mblack\u001b[39;49m\u001b[39m\"\u001b[39;49m)\n\u001b[0;32m     <a href='vscode-notebook-cell:/c%3A/Users/rache/OneDrive%20-%20Universitetet%20i%20Oslo/nevrale_nettverk/nevrale_nettverk/samlet%20prosjekt/06_07_23.ipynb#X13sZmlsZQ%3D%3D?line=26'>27</a>\u001b[0m plt\u001b[39m.\u001b[39mxlabel(\u001b[39m\"\u001b[39m\u001b[39mWeight Difference\u001b[39m\u001b[39m\"\u001b[39m)\n\u001b[0;32m     <a href='vscode-notebook-cell:/c%3A/Users/rache/OneDrive%20-%20Universitetet%20i%20Oslo/nevrale_nettverk/nevrale_nettverk/samlet%20prosjekt/06_07_23.ipynb#X13sZmlsZQ%3D%3D?line=27'>28</a>\u001b[0m plt\u001b[39m.\u001b[39mylabel(\u001b[39m\"\u001b[39m\u001b[39mFrequency / Probability Density\u001b[39m\u001b[39m\"\u001b[39m)\n",
      "File \u001b[1;32mc:\\Users\\rache\\AppData\\Local\\Programs\\Python\\Python310\\lib\\site-packages\\matplotlib\\pyplot.py:2602\u001b[0m, in \u001b[0;36mhist\u001b[1;34m(x, bins, range, density, weights, cumulative, bottom, histtype, align, orientation, rwidth, log, color, label, stacked, data, **kwargs)\u001b[0m\n\u001b[0;32m   2596\u001b[0m \u001b[39m@_copy_docstring_and_deprecators\u001b[39m(Axes\u001b[39m.\u001b[39mhist)\n\u001b[0;32m   2597\u001b[0m \u001b[39mdef\u001b[39;00m \u001b[39mhist\u001b[39m(\n\u001b[0;32m   2598\u001b[0m         x, bins\u001b[39m=\u001b[39m\u001b[39mNone\u001b[39;00m, \u001b[39mrange\u001b[39m\u001b[39m=\u001b[39m\u001b[39mNone\u001b[39;00m, density\u001b[39m=\u001b[39m\u001b[39mFalse\u001b[39;00m, weights\u001b[39m=\u001b[39m\u001b[39mNone\u001b[39;00m,\n\u001b[0;32m   2599\u001b[0m         cumulative\u001b[39m=\u001b[39m\u001b[39mFalse\u001b[39;00m, bottom\u001b[39m=\u001b[39m\u001b[39mNone\u001b[39;00m, histtype\u001b[39m=\u001b[39m\u001b[39m'\u001b[39m\u001b[39mbar\u001b[39m\u001b[39m'\u001b[39m, align\u001b[39m=\u001b[39m\u001b[39m'\u001b[39m\u001b[39mmid\u001b[39m\u001b[39m'\u001b[39m,\n\u001b[0;32m   2600\u001b[0m         orientation\u001b[39m=\u001b[39m\u001b[39m'\u001b[39m\u001b[39mvertical\u001b[39m\u001b[39m'\u001b[39m, rwidth\u001b[39m=\u001b[39m\u001b[39mNone\u001b[39;00m, log\u001b[39m=\u001b[39m\u001b[39mFalse\u001b[39;00m, color\u001b[39m=\u001b[39m\u001b[39mNone\u001b[39;00m,\n\u001b[0;32m   2601\u001b[0m         label\u001b[39m=\u001b[39m\u001b[39mNone\u001b[39;00m, stacked\u001b[39m=\u001b[39m\u001b[39mFalse\u001b[39;00m, \u001b[39m*\u001b[39m, data\u001b[39m=\u001b[39m\u001b[39mNone\u001b[39;00m, \u001b[39m*\u001b[39m\u001b[39m*\u001b[39mkwargs):\n\u001b[1;32m-> 2602\u001b[0m     \u001b[39mreturn\u001b[39;00m gca()\u001b[39m.\u001b[39mhist(\n\u001b[0;32m   2603\u001b[0m         x, bins\u001b[39m=\u001b[39mbins, \u001b[39mrange\u001b[39m\u001b[39m=\u001b[39m\u001b[39mrange\u001b[39m, density\u001b[39m=\u001b[39mdensity, weights\u001b[39m=\u001b[39mweights,\n\u001b[0;32m   2604\u001b[0m         cumulative\u001b[39m=\u001b[39mcumulative, bottom\u001b[39m=\u001b[39mbottom, histtype\u001b[39m=\u001b[39mhisttype,\n\u001b[0;32m   2605\u001b[0m         align\u001b[39m=\u001b[39malign, orientation\u001b[39m=\u001b[39morientation, rwidth\u001b[39m=\u001b[39mrwidth, log\u001b[39m=\u001b[39mlog,\n\u001b[0;32m   2606\u001b[0m         color\u001b[39m=\u001b[39mcolor, label\u001b[39m=\u001b[39mlabel, stacked\u001b[39m=\u001b[39mstacked,\n\u001b[0;32m   2607\u001b[0m         \u001b[39m*\u001b[39m\u001b[39m*\u001b[39m({\u001b[39m\"\u001b[39m\u001b[39mdata\u001b[39m\u001b[39m\"\u001b[39m: data} \u001b[39mif\u001b[39;00m data \u001b[39mis\u001b[39;00m \u001b[39mnot\u001b[39;00m \u001b[39mNone\u001b[39;00m \u001b[39melse\u001b[39;00m {}), \u001b[39m*\u001b[39m\u001b[39m*\u001b[39mkwargs)\n",
      "File \u001b[1;32mc:\\Users\\rache\\AppData\\Local\\Programs\\Python\\Python310\\lib\\site-packages\\matplotlib\\__init__.py:1412\u001b[0m, in \u001b[0;36m_preprocess_data.<locals>.inner\u001b[1;34m(ax, data, *args, **kwargs)\u001b[0m\n\u001b[0;32m   1409\u001b[0m \u001b[39m@functools\u001b[39m\u001b[39m.\u001b[39mwraps(func)\n\u001b[0;32m   1410\u001b[0m \u001b[39mdef\u001b[39;00m \u001b[39minner\u001b[39m(ax, \u001b[39m*\u001b[39margs, data\u001b[39m=\u001b[39m\u001b[39mNone\u001b[39;00m, \u001b[39m*\u001b[39m\u001b[39m*\u001b[39mkwargs):\n\u001b[0;32m   1411\u001b[0m     \u001b[39mif\u001b[39;00m data \u001b[39mis\u001b[39;00m \u001b[39mNone\u001b[39;00m:\n\u001b[1;32m-> 1412\u001b[0m         \u001b[39mreturn\u001b[39;00m func(ax, \u001b[39m*\u001b[39m\u001b[39mmap\u001b[39m(sanitize_sequence, args), \u001b[39m*\u001b[39m\u001b[39m*\u001b[39mkwargs)\n\u001b[0;32m   1414\u001b[0m     bound \u001b[39m=\u001b[39m new_sig\u001b[39m.\u001b[39mbind(ax, \u001b[39m*\u001b[39margs, \u001b[39m*\u001b[39m\u001b[39m*\u001b[39mkwargs)\n\u001b[0;32m   1415\u001b[0m     auto_label \u001b[39m=\u001b[39m (bound\u001b[39m.\u001b[39marguments\u001b[39m.\u001b[39mget(label_namer)\n\u001b[0;32m   1416\u001b[0m                   \u001b[39mor\u001b[39;00m bound\u001b[39m.\u001b[39mkwargs\u001b[39m.\u001b[39mget(label_namer))\n",
      "File \u001b[1;32mc:\\Users\\rache\\AppData\\Local\\Programs\\Python\\Python310\\lib\\site-packages\\matplotlib\\axes\\_axes.py:6635\u001b[0m, in \u001b[0;36mAxes.hist\u001b[1;34m(self, x, bins, range, density, weights, cumulative, bottom, histtype, align, orientation, rwidth, log, color, label, stacked, **kwargs)\u001b[0m\n\u001b[0;32m   6631\u001b[0m \u001b[39m# Loop through datasets\u001b[39;00m\n\u001b[0;32m   6632\u001b[0m \u001b[39mfor\u001b[39;00m i \u001b[39min\u001b[39;00m \u001b[39mrange\u001b[39m(nx):\n\u001b[0;32m   6633\u001b[0m     \u001b[39m# this will automatically overwrite bins,\u001b[39;00m\n\u001b[0;32m   6634\u001b[0m     \u001b[39m# so that each histogram uses the same bins\u001b[39;00m\n\u001b[1;32m-> 6635\u001b[0m     m, bins \u001b[39m=\u001b[39m np\u001b[39m.\u001b[39mhistogram(x[i], bins, weights\u001b[39m=\u001b[39mw[i], \u001b[39m*\u001b[39m\u001b[39m*\u001b[39mhist_kwargs)\n\u001b[0;32m   6636\u001b[0m     tops\u001b[39m.\u001b[39mappend(m)\n\u001b[0;32m   6637\u001b[0m tops \u001b[39m=\u001b[39m np\u001b[39m.\u001b[39marray(tops, \u001b[39mfloat\u001b[39m)  \u001b[39m# causes problems later if it's an int\u001b[39;00m\n",
      "File \u001b[1;32m<__array_function__ internals>:180\u001b[0m, in \u001b[0;36mhistogram\u001b[1;34m(*args, **kwargs)\u001b[0m\n",
      "File \u001b[1;32mc:\\Users\\rache\\AppData\\Local\\Programs\\Python\\Python310\\lib\\site-packages\\numpy\\lib\\histograms.py:793\u001b[0m, in \u001b[0;36mhistogram\u001b[1;34m(a, bins, range, normed, weights, density)\u001b[0m\n\u001b[0;32m    681\u001b[0m \u001b[39mr\u001b[39m\u001b[39m\"\"\"\u001b[39;00m\n\u001b[0;32m    682\u001b[0m \u001b[39mCompute the histogram of a dataset.\u001b[39;00m\n\u001b[0;32m    683\u001b[0m \n\u001b[1;32m   (...)\u001b[0m\n\u001b[0;32m    789\u001b[0m \n\u001b[0;32m    790\u001b[0m \u001b[39m\"\"\"\u001b[39;00m\n\u001b[0;32m    791\u001b[0m a, weights \u001b[39m=\u001b[39m _ravel_and_check_weights(a, weights)\n\u001b[1;32m--> 793\u001b[0m bin_edges, uniform_bins \u001b[39m=\u001b[39m _get_bin_edges(a, bins, \u001b[39mrange\u001b[39;49m, weights)\n\u001b[0;32m    795\u001b[0m \u001b[39m# Histogram is an integer or a float array depending on the weights.\u001b[39;00m\n\u001b[0;32m    796\u001b[0m \u001b[39mif\u001b[39;00m weights \u001b[39mis\u001b[39;00m \u001b[39mNone\u001b[39;00m:\n",
      "File \u001b[1;32mc:\\Users\\rache\\AppData\\Local\\Programs\\Python\\Python310\\lib\\site-packages\\numpy\\lib\\histograms.py:431\u001b[0m, in \u001b[0;36m_get_bin_edges\u001b[1;34m(a, bins, range, weights)\u001b[0m\n\u001b[0;32m    429\u001b[0m     bin_edges \u001b[39m=\u001b[39m np\u001b[39m.\u001b[39masarray(bins)\n\u001b[0;32m    430\u001b[0m     \u001b[39mif\u001b[39;00m np\u001b[39m.\u001b[39many(bin_edges[:\u001b[39m-\u001b[39m\u001b[39m1\u001b[39m] \u001b[39m>\u001b[39m bin_edges[\u001b[39m1\u001b[39m:]):\n\u001b[1;32m--> 431\u001b[0m         \u001b[39mraise\u001b[39;00m \u001b[39mValueError\u001b[39;00m(\n\u001b[0;32m    432\u001b[0m             \u001b[39m'\u001b[39m\u001b[39m`bins` must increase monotonically, when an array\u001b[39m\u001b[39m'\u001b[39m)\n\u001b[0;32m    434\u001b[0m \u001b[39melse\u001b[39;00m:\n\u001b[0;32m    435\u001b[0m     \u001b[39mraise\u001b[39;00m \u001b[39mValueError\u001b[39;00m(\u001b[39m'\u001b[39m\u001b[39m`bins` must be 1d, when an array\u001b[39m\u001b[39m'\u001b[39m)\n",
      "\u001b[1;31mValueError\u001b[0m: `bins` must increase monotonically, when an array"
     ]
    },
    {
     "data": {
      "image/png": "[encoded data removed]",
      "text/plain": [
       "<Figure size 432x288 with 1 Axes>"
      ]
     },
     "metadata": {
      "needs_background": "light"
     },
     "output_type": "display_data"
    }
   ],
   "source": [
    "# Define the number of bins and the scaling factor for increasing bin widths\n",
    "num_bins = 36\n",
    "bin_width_scale = 15\n",
    "\n",
    "# Calculate the scaling factor for each bin\n",
    "bin_scaling_positive = np.exp(np.linspace(0, np.log(bin_width_scale), num_bins))\n",
    "bin_scaling_negative = -np.exp(np.linspace(np.log(bin_width_scale), 0, num_bins))\n",
    "\n",
    "# Combine the scaling factors for negative and positive weight changes\n",
    "bin_scaling = np.concatenate((bin_scaling_negative, bin_scaling_positive))\n",
    "\n",
    "bin_edges = np.cumsum(bin_scaling)\n",
    "print(bin_edges)\n",
    "bin_edges /= bin_edges[-1]\n",
    "bin_edges *= np.max(weight_differences)\n",
    "\n",
    "# Calculate the bin edges\n",
    "start = np.min(weight_differences)\n",
    "end = np.max(weight_differences)\n",
    "#bin_edges = np.linspace(start, end, num_bins + 1)\n",
    "\n",
    "# Plot the histogram with custom bin widths\n",
    "plt.hist(weight_differences, bins=bin_edges, density=True, alpha=0.7, edgecolor=\"black\")\n",
    "plt.xlabel(\"Weight Difference\")\n",
    "plt.ylabel(\"Frequency / Probability Density\")\n",
    "plt.title(\"Weight Differences between epoch 0-1 for layer 1\")\n",
    "\n",
    "# Calculate probability density\n",
    "hist, _ = np.histogram(weight_differences, bins=bin_edges, density=False)\n",
    "bin_centers = (bin_edges[:-1] + bin_edges[1:]) / 2\n",
    "bin_widths = np.diff(bin_edges)\n",
    "prob_density = hist / (np.sum(hist) * bin_widths)\n",
    "\n",
    "# Plot probability density curve\n",
    "plt.plot(bin_centers, prob_density, \"o--\", label=\"Probability Density\")\n",
    "plt.legend()\n",
    "plt.xlim(-0.01, 0.01)\n",
    "plt.show()\n"
   ]
  },
  {
   "attachments": {},
   "cell_type": "markdown",
   "metadata": {},
   "source": [
    "Siden vektendringene er nokså normalfordelt rundt 0 nøyer jeg meg med å kun se på absoluttverdien av vektendringene slik jeg har gjort i 01-04_07_23.ipynb."
   ]
  }
 ],
 "metadata": {
  "kernelspec": {
   "display_name": "Python 3",
   "language": "python",
   "name": "python3"
  },
  "language_info": {
   "codemirror_mode": {
    "name": "ipython",
    "version": 3
   },
   "file_extension": ".py",
   "mimetype": "text/x-python",
   "name": "python",
   "nbconvert_exporter": "python",
   "pygments_lexer": "ipython3",
   "version": "3.10.5"
  },
  "orig_nbformat": 4
 },
 "nbformat": 4,
 "nbformat_minor": 2
}
