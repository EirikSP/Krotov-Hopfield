{
 "cells": [
  {
   "attachments": {},
   "cell_type": "markdown",
   "metadata": {},
   "source": [
    "### 28. juni\n",
    "Arbeidstimer: 8t\n",
    "\n",
    "Begynte å lese artiklene til Belking og Nikkaran som omhandler double descent. Siden den ene artikkelen bruker CNN leste jeg meg opp på det og laget et script som bruker CNN isteden. Dette tok mye lengre tid å kjøre!"
   ]
  },
  {
   "cell_type": "code",
   "execution_count": 1,
   "metadata": {},
   "outputs": [],
   "source": [
    "import numpy as np\n",
    "import matplotlib.pyplot as plt\n",
    "import copy\n",
    "\n",
    "import torch\n",
    "import torch.nn as nn\n",
    "from torch.optim import SGD\n",
    "from torch.utils.data import Dataset, DataLoader\n",
    "import torchvision.transforms as transforms\n",
    "import torch.nn.functional as F\n",
    "import torchvision"
   ]
  },
  {
   "cell_type": "code",
   "execution_count": 2,
   "metadata": {},
   "outputs": [],
   "source": [
    "num_epochs = 10\n",
    "batch_size = 100\n",
    "learning_rate = 0.01"
   ]
  },
  {
   "cell_type": "code",
   "execution_count": 3,
   "metadata": {},
   "outputs": [],
   "source": [
    "# Loads the MNIST dataset from Pytorch\n",
    "train_set = torchvision.datasets.MNIST('data', train=True,\n",
    "                                       transform=transforms.ToTensor(), download=True)\n",
    "test_set = torchvision.datasets.MNIST('data', train=False,\n",
    "                                      transform=transforms.ToTensor(), download=True)\n"
   ]
  },
  {
   "cell_type": "code",
   "execution_count": 4,
   "metadata": {},
   "outputs": [],
   "source": [
    "class Data(Dataset):\n",
    "    def __init__(self, dataset):\n",
    "        self.x, self.y = dataset.data, dataset.targets\n",
    "        self.x = self.x.unsqueeze(1).float() / 255.0\n",
    "\n",
    "    def __len__(self):\n",
    "        return self.x.shape[0]\n",
    "\n",
    "    def __getitem__(self, index):\n",
    "        return self.x[index], self.y[index]\n",
    "\n"
   ]
  },
  {
   "cell_type": "code",
   "execution_count": 5,
   "metadata": {},
   "outputs": [],
   "source": [
    "train_ds = Data(train_set)\n",
    "test_ds = Data(test_set)\n",
    "\n",
    "train_dl = DataLoader(train_ds, batch_size=batch_size, shuffle=True)\n",
    "test_dl = DataLoader(test_ds, batch_size=batch_size, shuffle=False)"
   ]
  },
  {
   "cell_type": "code",
   "execution_count": 6,
   "metadata": {},
   "outputs": [],
   "source": [
    "class ConvNet(nn.Module):\n",
    "    def __init__(self):\n",
    "        super(ConvNet, self).__init__()\n",
    "        self.conv1 = nn.Conv2d(1, 16, kernel_size=3, stride=1, padding=1)\n",
    "        self.conv2 = nn.Conv2d(16, 32, kernel_size=3, stride=1, padding=1)\n",
    "        self.fc1 = nn.Linear(32 * 7 * 7, 100)\n",
    "        self.fc2 = nn.Linear(100, 10)\n",
    "        self.relu = nn.ReLU()\n",
    "\n",
    "    def forward(self, x):\n",
    "        out = self.relu(self.conv1(x))\n",
    "        out = F.max_pool2d(out, 2)\n",
    "        out = self.relu(self.conv2(out))\n",
    "        out = F.max_pool2d(out, 2)\n",
    "        out = out.view(out.size(0), -1)\n",
    "        out = self.relu(self.fc1(out))\n",
    "        out = self.fc2(out)\n",
    "        return out"
   ]
  },
  {
   "cell_type": "code",
   "execution_count": 7,
   "metadata": {},
   "outputs": [],
   "source": [
    "model = ConvNet()"
   ]
  },
  {
   "cell_type": "code",
   "execution_count": 8,
   "metadata": {},
   "outputs": [],
   "source": [
    "# Defining loss and optimizer functions\n",
    "optimizer = SGD(model.parameters(), lr=learning_rate)\n",
    "loss_fn = nn.CrossEntropyLoss()"
   ]
  },
  {
   "cell_type": "code",
   "execution_count": 9,
   "metadata": {},
   "outputs": [],
   "source": [
    "# Creating test data\n",
    "x_test = test_set.data.unsqueeze(1).float() / 255.0\n",
    "y_test = test_set.targets"
   ]
  },
  {
   "cell_type": "code",
   "execution_count": 10,
   "metadata": {},
   "outputs": [
    {
     "name": "stdout",
     "output_type": "stream",
     "text": [
      "Epoch 0, loss 0.5971861481666565, accuracy 85.79999542236328\n",
      "Epoch 1, loss 0.2358606457710266, accuracy 91.54000091552734\n",
      "Epoch 2, loss 0.22805364429950714, accuracy 93.22000122070312\n",
      "Epoch 3, loss 0.3172447979450226, accuracy 94.30000305175781\n",
      "Epoch 4, loss 0.14271271228790283, accuracy 95.19000244140625\n",
      "Epoch 5, loss 0.1875920444726944, accuracy 95.80000305175781\n",
      "Epoch 6, loss 0.1176351010799408, accuracy 96.34000396728516\n",
      "Epoch 7, loss 0.10096421837806702, accuracy 96.66999816894531\n",
      "Epoch 8, loss 0.04444033280014992, accuracy 97.08999633789062\n",
      "Epoch 9, loss 0.0822257548570633, accuracy 97.39999389648438\n"
     ]
    }
   ],
   "source": [
    "# Lists to store epochs, loss, accuracy, and average weight change for each epoch\n",
    "epochs = []\n",
    "losses = []\n",
    "accuracy = []\n",
    "avg_weight_changes = []\n",
    "\n",
    "# Create a copy of the initial model state\n",
    "initial_state = copy.deepcopy(model.state_dict())\n",
    "# Create dictionaries to store the weight differences for each layer\n",
    "# The weight difference is between one epoch and the next\n",
    "layer_weight_differences = {layer_name: [] for layer_name, _ in model.named_parameters()}\n",
    "\n",
    "for epoch in range(num_epochs):\n",
    "    # Train the model\n",
    "    N = len(train_dl)\n",
    "    model.train()\n",
    "\n",
    "    for i, (x_batch, y_batch) in enumerate(train_dl):\n",
    "        optimizer.zero_grad()\n",
    "        y_pred = model(x_batch)\n",
    "        loss = loss_fn(y_pred, y_batch)\n",
    "        loss.backward()\n",
    "        optimizer.step()\n",
    "        epochs.append(epoch + i / N)\n",
    "        losses.append(loss.mean().item())\n",
    "\n",
    "    # Evaluate the model\n",
    "    model.eval()\n",
    "    output = model(x_test)\n",
    "    acc = (torch.argmax(output, 1) == y_test).float().mean()\n",
    "    accuracy.append(acc.item())\n",
    "    print(f\"Epoch {epoch}, loss {loss}, accuracy {acc*100}\")\n",
    "\n",
    "    total_weight_change = 0\n",
    "    total_weights = 0\n",
    "\n",
    "    # Calculate weight difference for each layer\n",
    "    for layer_name, layer_weights in model.named_parameters():\n",
    "        # Select only weights and not the biases\n",
    "        if \"weight\" in layer_name:\n",
    "            # Define the previous weights\n",
    "            prev_weights = initial_state[layer_name]\n",
    "            # Define current weights\n",
    "            current_weights = layer_weights.data\n",
    "            difference = torch.abs(current_weights - prev_weights)\n",
    "            # Calculate weight change in each layer\n",
    "            layer_weight_differences[layer_name].append(difference.mean().item())\n",
    "\n",
    "            # Calculate average weight change for all the layers\n",
    "            weight_change = torch.abs(current_weights - prev_weights).sum().item()\n",
    "            total_weight_change += weight_change\n",
    "            total_weights += current_weights.numel()\n",
    "\n",
    "    average_weight_change = total_weight_change / total_weights\n",
    "    avg_weight_changes.append(average_weight_change)\n",
    "\n",
    "    # Update initial state for the next epoch\n",
    "    initial_state = copy.deepcopy(model.state_dict())\n"
   ]
  },
  {
   "cell_type": "code",
   "execution_count": 11,
   "metadata": {},
   "outputs": [],
   "source": [
    "# Turning lists to arrays for flexibility\n",
    "epochs = np.array(epochs)\n",
    "losses = np.array(losses)\n",
    "accuracy = np.array(accuracy)\n",
    "average_weight_changes = np.array(avg_weight_changes)\n",
    "\n",
    "# Reshaping before plotting to get the same dimensions\n",
    "epoch_data_avgd = epochs.reshape(num_epochs, -1).mean(axis=1)\n",
    "loss_data_avgd = losses.reshape(num_epochs, -1).mean(axis=1)\n",
    "accuracy = accuracy.reshape(num_epochs, -1).mean(axis=1)"
   ]
  },
  {
   "cell_type": "code",
   "execution_count": 12,
   "metadata": {},
   "outputs": [
    {
     "data": {
      "image/png": "[encoded data removed]",
      "text/plain": [
       "<Figure size 432x288 with 1 Axes>"
      ]
     },
     "metadata": {
      "needs_background": "light"
     },
     "output_type": "display_data"
    }
   ],
   "source": [
    "plt.plot(epoch_data_avgd, accuracy, \"o--\")\n",
    "plt.grid()\n",
    "plt.title(\"Model accuracy\")\n",
    "plt.xlabel(\"Epoch Number\")\n",
    "plt.ylabel(\"Accuracy %\")\n",
    "plt.show()    "
   ]
  },
  {
   "cell_type": "code",
   "execution_count": 13,
   "metadata": {},
   "outputs": [
    {
     "data": {
      "image/png": "[encoded data removed]",
      "text/plain": [
       "<Figure size 432x288 with 1 Axes>"
      ]
     },
     "metadata": {
      "needs_background": "light"
     },
     "output_type": "display_data"
    }
   ],
   "source": [
    "plt.plot(epoch_data_avgd, loss_data_avgd, \"o--\")\n",
    "plt.grid()\n",
    "plt.xlabel(\"Epoch Number\")\n",
    "plt.ylabel(\"Cross Entropy\")\n",
    "plt.title(\"Cross Entropy (avgd per epoch)\")\n",
    "plt.show()"
   ]
  },
  {
   "cell_type": "code",
   "execution_count": 14,
   "metadata": {},
   "outputs": [
    {
     "name": "stdout",
     "output_type": "stream",
     "text": [
      "Layer: conv1.weight\n",
      "Epoch 0: Average Weight Difference: 0.059415534138679504\n",
      "Epoch 1: Average Weight Difference: 0.01498340256512165\n",
      "Epoch 2: Average Weight Difference: 0.007386151235550642\n",
      "Epoch 3: Average Weight Difference: 0.006767354439944029\n",
      "Epoch 4: Average Weight Difference: 0.005837159231305122\n",
      "Epoch 5: Average Weight Difference: 0.0051924679428339005\n",
      "Epoch 6: Average Weight Difference: 0.00457378476858139\n",
      "Epoch 7: Average Weight Difference: 0.003940983209758997\n",
      "Epoch 8: Average Weight Difference: 0.0036070661153644323\n",
      "Epoch 9: Average Weight Difference: 0.0031489154789596796\n",
      "Layer: conv2.weight\n",
      "Epoch 0: Average Weight Difference: 0.009609092026948929\n",
      "Epoch 1: Average Weight Difference: 0.0029662824235856533\n",
      "Epoch 2: Average Weight Difference: 0.0020396625623106956\n",
      "Epoch 3: Average Weight Difference: 0.0017808611737564206\n",
      "Epoch 4: Average Weight Difference: 0.0015305994311347604\n",
      "Epoch 5: Average Weight Difference: 0.0013168166624382138\n",
      "Epoch 6: Average Weight Difference: 0.0011544105364009738\n",
      "Epoch 7: Average Weight Difference: 0.0010053843725472689\n",
      "Epoch 8: Average Weight Difference: 0.0008921636617742479\n",
      "Epoch 9: Average Weight Difference: 0.0008172036032192409\n",
      "Layer: fc1.weight\n",
      "Epoch 0: Average Weight Difference: 0.001918966299854219\n",
      "Epoch 1: Average Weight Difference: 0.0009987684898078442\n",
      "Epoch 2: Average Weight Difference: 0.0006720146047882736\n",
      "Epoch 3: Average Weight Difference: 0.0005634247791022062\n",
      "Epoch 4: Average Weight Difference: 0.0004730479558929801\n",
      "Epoch 5: Average Weight Difference: 0.00040981595520861447\n",
      "Epoch 6: Average Weight Difference: 0.0003513617848511785\n",
      "Epoch 7: Average Weight Difference: 0.00031542792567051947\n",
      "Epoch 8: Average Weight Difference: 0.00028224283596500754\n",
      "Epoch 9: Average Weight Difference: 0.00026431973674334586\n",
      "Layer: fc2.weight\n",
      "Epoch 0: Average Weight Difference: 0.020509080961346626\n",
      "Epoch 1: Average Weight Difference: 0.007915707305073738\n",
      "Epoch 2: Average Weight Difference: 0.004774025175720453\n",
      "Epoch 3: Average Weight Difference: 0.00440835440531373\n",
      "Epoch 4: Average Weight Difference: 0.003919152542948723\n",
      "Epoch 5: Average Weight Difference: 0.0032829747069627047\n",
      "Epoch 6: Average Weight Difference: 0.0028749783523380756\n",
      "Epoch 7: Average Weight Difference: 0.0024724628310650587\n",
      "Epoch 8: Average Weight Difference: 0.002177138114348054\n",
      "Epoch 9: Average Weight Difference: 0.0019575669430196285\n"
     ]
    },
    {
     "data": {
      "image/png": "[encoded data removed]",
      "text/plain": [
       "<Figure size 432x288 with 1 Axes>"
      ]
     },
     "metadata": {
      "needs_background": "light"
     },
     "output_type": "display_data"
    }
   ],
   "source": [
    "# Print the average weight differences for each layer for each epoch\n",
    "for layer_name, weight_differences in layer_weight_differences.items():\n",
    "    if \"weight\" in layer_name:\n",
    "        print(f\"Layer: {layer_name}\")\n",
    "        for epoch, difference in enumerate(weight_differences):\n",
    "            print(f\"Epoch {epoch}: Average Weight Difference: {difference}\")\n",
    "\n",
    "# Get the max number of weight differences across all layers\n",
    "max_weight_differences = max(len(weight_differences) for weight_differences in layer_weight_differences.values())\n",
    "\n",
    "# Generate the x-axis epoch data\n",
    "epoch_data_avgd = np.linspace(1, num_epochs, max_weight_differences)\n",
    "\n",
    "# Plot epoch vs. weight difference for each layer\n",
    "for layer_name, weight_differences in layer_weight_differences.items():\n",
    "    if \"weight\" in layer_name:\n",
    "        plt.plot(epoch_data_avgd[:len(weight_differences)], weight_differences, \"o--\", label=layer_name)\n",
    "\n",
    "plt.xlabel(\"Epoch\")\n",
    "plt.ylabel(\"Weight Difference\")\n",
    "plt.grid()\n",
    "plt.legend()\n",
    "plt.show()"
   ]
  },
  {
   "attachments": {},
   "cell_type": "markdown",
   "metadata": {},
   "source": [
    "Begynte på et oppsummeringsdokument i latex hvor jeg forklarer MLP, CNN og de ulike komponentene av nettverkene. Hentet info fra https://towardsdatascience.com/convolutional-neural-networks-explained-9cc5188c4939. Her er dokumentet flyttet hit:"
   ]
  },
  {
   "attachments": {},
   "cell_type": "markdown",
   "metadata": {},
   "source": [
    "### Typer av nevrale nettverk, MLP/CNN\n",
    "Et nevralt nettverk kan bygges opp på ulike måter. En metode, og kanskje den enkleste metoden å bygge et nevralt nettverk på er MLP (multilayer perceptrons). Et perseptron er et 1-lags feed forward nevralt nettverk. At det er et feed forward nettverk betyr bare at informasjonsflyten er i en retning, fra input-lag til output-lag. Et MLP-nettverk består 3 lag som inkluderer input-lag, skjult lag og output lag. Dersom nettverket har mer enn ett skjult lag kalles det et deep ANN (artificial neural network). MLP er en type feed forward nettverk. Hvert nevron i hvert lag er koblet til hvert nevron i det følgende laget. Det bruker ikke-lineære aktiveringsfunksjoner slik som sigmoid eller ReLU-funksjonen som gjør at nettverket kan lære komplekse mønstre. \n",
    "\n",
    "En annen type feed forward nettverk er CNN (concolutional neural network). CNN skiller seg fra MLP ved å inneholde konvolusjonslag og  pooling lag i tillegg til fullt tilkoblede lag og aktiveringsfunksjon som MLP også har. \n",
    "CNN er spesielt effektive for bildeklassifisering og brukes derfor ofte til MNIST-datasettet."
   ]
  },
  {
   "attachments": {},
   "cell_type": "markdown",
   "metadata": {},
   "source": [
    "### MLPSs\n",
    "MLP-nettverk (Multi-layer perceptron) er en type nevralt nettverk hvor nevronene er organisert i lag.\n",
    "$$a^{L} = \\sigma(w^{L}a^{(L-1)} + b^L)$$\n",
    "\n",
    "Vektene i nevrale nettverk representerer styrken på signalet som sendes fra et nevron i et lag til et annet nevron i det neste laget. Hver kobling mellom nevronene i nettverket har en assosiert vekt. Vektene er lærbare parametre som justeres under trening av nettverket. Jo høyere verdien til vekten er jo større påvirkning har det første nevronet i koblingen på det andre nevronet i koblingen."
   ]
  },
  {
   "attachments": {},
   "cell_type": "markdown",
   "metadata": {},
   "source": [
    "### CNNs\n",
    "\n",
    "Konvolusjonslagene behandler mesteparten av dataen. I lagene utføres et prikkprodukt mellom to matriser, hvor den ene matrisen består av lærbare vekter (kernel/filter) og den andre matrisen er en liten del av input-bildet (eks 3x3 piksler). Ved forward pass \"slider\" kernelen over bildet og alle prikkproduktene lagres i det som kalles et activation map/feature map, en 2d representasjon av bildet med responsen til kernel ved hver posisjon i bildet. Ved å bruke flere filter/kernels kan nettverket oppdage mønster i bildet. I pooling-laget \"slider\" vi et to-dimensjonalt filter over feature mappet og finner gjennomsnitt/max-verdi i de nærliggende regionene. Ved max-pooling finner man max-verdien innenfor et område på eks. et 2x2-vindu av feature-mappet. På denne måten reduserer man dimensjonen til feature mappet og reduserer antallet parametre som nettverket må lære. De fullt tilkoblede lagene har som ved MLPs nevroner som i hvert lag er koblet til hvert nevron i det følgende laget. CNN bruker også en aktiveringsfunksjon som introduserer ikke-linearitet til de lineære konvolusjonslagene. En aktiveringsfunksjon som ofte brukes er ReLU (the Rectified Linear Unit). ReLu er mer pålitelig enn sigmoid- og tanh-funksjonene og akselererer konvergensen 6 ganger raskere.\n",
    "\n",
    "Ved CNN brukes ofte padding. Padding er når man legger til en ekstra bord av piksler på utsiden av input-bildet før man gjør en konvolusjon. Det øker størrelsen av input-laget og gjør at feature mappet har samme dimensjon som input-bildet har. Feature mappet blir typisk litt mindre pga konvolusjonsoperasjonene, noe man forhindrer ved padding. Det som skjer er at når filteret i konvolusjonslaget beveger seg langs input-grensene til bildet vil filteret bevege seg utenfor grensene dersom det ikke er noe padding som minsker bildet. Ved padding beholder man derfor også grenseinformasjonen til bildene."
   ]
  },
  {
   "attachments": {},
   "cell_type": "markdown",
   "metadata": {},
   "source": [
    "### Fordeler med CNN\n",
    "Fordelen med konvolusjonslag er at ved bruk av kernel får man sparse interraction siden det blir færre parametere å lagre og minnekravene blir derfor lavere og effektiviteten blir høyere. Sammenlignet med MLPs hvor hvert element i vektmatrisen kun brukes en gang er at konvolusjonslagene har felles parametre som er lagret i kernel. Det medfører at et endring i input vil endre output på samme vis."
   ]
  }
 ],
 "metadata": {
  "kernelspec": {
   "display_name": "Python 3",
   "language": "python",
   "name": "python3"
  },
  "language_info": {
   "codemirror_mode": {
    "name": "ipython",
    "version": 3
   },
   "file_extension": ".py",
   "mimetype": "text/x-python",
   "name": "python",
   "nbconvert_exporter": "python",
   "pygments_lexer": "ipython3",
   "version": "3.10.5"
  },
  "orig_nbformat": 4
 },
 "nbformat": 4,
 "nbformat_minor": 2
}
